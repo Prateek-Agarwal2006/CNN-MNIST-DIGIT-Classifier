{
 "cells": [
  {
   "cell_type": "code",
   "execution_count": 7,
   "id": "64d4285d-daa9-4ce2-894d-a9b16f447640",
   "metadata": {},
   "outputs": [],
   "source": [
    "import numpy as np\n",
    "import torch\n",
    "import torchvision\n",
    "from torchvision.datasets import ImageFolder\n",
    "from torchvision import transforms, datasets\n",
    "from torch.utils.data import TensorDataset, DataLoader\n",
    "import torch.nn as nn\n",
    "import torch.nn.functional as F\n",
    "import matplotlib.pyplot as plt"
   ]
  },
  {
   "cell_type": "code",
   "execution_count": 8,
   "id": "95087b0c-7eb6-4a17-8593-7514a8209a20",
   "metadata": {},
   "outputs": [],
   "source": [
    "device = torch.device('cuda' if torch.cuda.is_available() else 'cpu')"
   ]
  },
  {
   "cell_type": "code",
   "execution_count": 9,
   "id": "e13d3a9a",
   "metadata": {},
   "outputs": [],
   "source": [
    "epochs = 20\n",
    "batch_size = 60\n",
    "lr = 0.001"
   ]
  },
  {
   "cell_type": "code",
   "execution_count": 10,
   "id": "76e75c19",
   "metadata": {},
   "outputs": [],
   "source": [
    "transform = transforms.Compose([\n",
    "    transforms.ToTensor(),\n",
    "])"
   ]
  },
  {
   "cell_type": "code",
   "execution_count": 11,
   "id": "429546de-5a3f-427e-a006-c54d33245ba1",
   "metadata": {},
   "outputs": [],
   "source": [
    "trainset = datasets.MNIST(root='./data', train=True, download=True, transform=transform)\n",
    "testset = datasets.MNIST(root='./data', train=False, download=True, transform=transform)"
   ]
  },
  {
   "cell_type": "code",
   "execution_count": 12,
   "id": "1b722fea-e8ee-42b9-86d5-8dc811ff3246",
   "metadata": {},
   "outputs": [],
   "source": [
    "\n",
    "train_size = int(0.9 * len(trainset))\n",
    "val_size = len(trainset) - train_size\n",
    "train_dataset, val_dataset = torch.utils.data.random_split(trainset, [train_size, val_size])\n",
    "\n",
    "train_loader = DataLoader(train_dataset, batch_size=batch_size, shuffle=True)\n",
    "val_loader = DataLoader(val_dataset, batch_size=batch_size, shuffle=False)\n",
    "test_loader = DataLoader(testset, batch_size=batch_size, shuffle=False)\n"
   ]
  },
  {
   "cell_type": "code",
   "execution_count": 13,
   "id": "3e62cdb4-1df8-4451-9ed8-b7151aefff3c",
   "metadata": {},
   "outputs": [],
   "source": [
    "class ConvNet(nn.Module):\n",
    "    def __init__(self):\n",
    "        super(ConvNet, self).__init__()\n",
    "        self.conv1 = nn.Conv2d(1, 6, 5)\n",
    "        self.pool = nn.MaxPool2d(2, 2)\n",
    "        self.conv2 = nn.Conv2d(6, 64, 5)\n",
    "        self.global_avg_pool = nn.AdaptiveAvgPool2d(1)\n",
    "        self.fc1 = nn.Linear(64 * 1 * 1, 120)\n",
    "        self.fc2 = nn.Linear(120, 84)\n",
    "        self.fc3 = nn.Linear(84, 10)\n",
    "\n",
    "    def forward(self, x):\n",
    "        x = self.pool(F.relu(self.conv1(x)))\n",
    "        x = self.pool(F.relu(self.conv2(x)))\n",
    "        x = self.global_avg_pool(x)\n",
    "        x = x.view(x.size(0), -1)\n",
    "        x = F.relu(self.fc1(x))\n",
    "        x = F.relu(self.fc2(x))\n",
    "        x = self.fc3(x)\n",
    "        return x\n",
    "\n",
    "model = ConvNet().to(device)\n"
   ]
  },
  {
   "cell_type": "code",
   "execution_count": 14,
   "id": "0137ce78-53d0-48e0-9f30-25e3091e1fc0",
   "metadata": {},
   "outputs": [],
   "source": [
    "criterion = nn.CrossEntropyLoss()\n",
    "optimizer = torch.optim.Adam(model.parameters(), lr=lr)"
   ]
  },
  {
   "cell_type": "code",
   "execution_count": 15,
   "id": "a7318e0b-b4ab-4522-bf02-f85dbf715c49",
   "metadata": {},
   "outputs": [
    {
     "name": "stdout",
     "output_type": "stream",
     "text": [
      "Training - Epoch [1/20], Step [500/900], Loss: 0.9096\n",
      "Validation - Epoch [1/20], Loss: 0.3643, Accuracy: 89.13%\n",
      "Training - Epoch [2/20], Step [500/900], Loss: 0.2669\n",
      "Validation - Epoch [2/20], Loss: 0.2489, Accuracy: 92.55%\n",
      "Training - Epoch [3/20], Step [500/900], Loss: 0.2295\n",
      "Validation - Epoch [3/20], Loss: 0.1502, Accuracy: 95.50%\n",
      "Training - Epoch [4/20], Step [500/900], Loss: 0.2125\n",
      "Validation - Epoch [4/20], Loss: 0.1187, Accuracy: 96.18%\n",
      "Training - Epoch [5/20], Step [500/900], Loss: 0.1348\n",
      "Validation - Epoch [5/20], Loss: 0.1307, Accuracy: 95.95%\n",
      "Training - Epoch [6/20], Step [500/900], Loss: 0.2219\n",
      "Validation - Epoch [6/20], Loss: 0.1079, Accuracy: 96.62%\n",
      "Training - Epoch [7/20], Step [500/900], Loss: 0.1875\n",
      "Validation - Epoch [7/20], Loss: 0.1042, Accuracy: 96.85%\n",
      "Training - Epoch [8/20], Step [500/900], Loss: 0.1645\n",
      "Validation - Epoch [8/20], Loss: 0.0901, Accuracy: 96.97%\n",
      "Training - Epoch [9/20], Step [500/900], Loss: 0.1876\n",
      "Validation - Epoch [9/20], Loss: 0.1091, Accuracy: 96.67%\n",
      "Training - Epoch [10/20], Step [500/900], Loss: 0.0078\n",
      "Validation - Epoch [10/20], Loss: 0.0814, Accuracy: 97.27%\n",
      "Training - Epoch [11/20], Step [500/900], Loss: 0.0762\n",
      "Validation - Epoch [11/20], Loss: 0.0653, Accuracy: 97.98%\n",
      "Training - Epoch [12/20], Step [500/900], Loss: 0.0139\n",
      "Validation - Epoch [12/20], Loss: 0.0702, Accuracy: 97.85%\n",
      "Training - Epoch [13/20], Step [500/900], Loss: 0.1097\n",
      "Validation - Epoch [13/20], Loss: 0.0550, Accuracy: 98.10%\n",
      "Training - Epoch [14/20], Step [500/900], Loss: 0.0211\n",
      "Validation - Epoch [14/20], Loss: 0.0694, Accuracy: 97.65%\n",
      "Training - Epoch [15/20], Step [500/900], Loss: 0.0420\n",
      "Validation - Epoch [15/20], Loss: 0.0694, Accuracy: 97.98%\n",
      "Training - Epoch [16/20], Step [500/900], Loss: 0.0812\n",
      "Validation - Epoch [16/20], Loss: 0.0509, Accuracy: 98.48%\n",
      "Training - Epoch [17/20], Step [500/900], Loss: 0.1144\n",
      "Validation - Epoch [17/20], Loss: 0.0620, Accuracy: 98.05%\n",
      "Training - Epoch [18/20], Step [500/900], Loss: 0.0478\n",
      "Validation - Epoch [18/20], Loss: 0.0650, Accuracy: 98.10%\n",
      "Training - Epoch [19/20], Step [500/900], Loss: 0.0534\n",
      "Validation - Epoch [19/20], Loss: 0.0447, Accuracy: 98.42%\n",
      "Training - Epoch [20/20], Step [500/900], Loss: 0.0235\n",
      "Validation - Epoch [20/20], Loss: 0.0506, Accuracy: 98.50%\n"
     ]
    }
   ],
   "source": [
    "total_steps = len(train_loader)\n",
    "train_losses = []\n",
    "val_losses = []\n",
    "\n",
    "\n",
    "for epoch in range(epochs):\n",
    "    \n",
    "    model.train()\n",
    "    epoch_train_losses = []\n",
    "    for i, (images, labels) in enumerate(train_loader):\n",
    "        images = images.to(device)\n",
    "        labels = labels.to(device)\n",
    "\n",
    "        outputs = model(images)\n",
    "        loss = criterion(outputs, labels)\n",
    "        epoch_train_losses.append(loss.item())\n",
    "\n",
    "        optimizer.zero_grad()\n",
    "        loss.backward()\n",
    "        optimizer.step()\n",
    "\n",
    "        if (i + 1) % 500 == 0:\n",
    "            print(f'Training - Epoch [{epoch + 1}/{epochs}], Step [{i + 1}/{total_steps}], Loss: {loss.item():.4f}')\n",
    "\n",
    "    train_losses.append(np.mean(epoch_train_losses))\n",
    "\n",
    "    \n",
    "    model.eval()\n",
    "    with torch.no_grad():\n",
    "        epoch_val_losses = []\n",
    "        val_correct = 0\n",
    "        val_total = 0\n",
    "        for images, labels in val_loader:\n",
    "            images = images.to(device)\n",
    "            labels = labels.to(device)\n",
    "\n",
    "            outputs = model(images)\n",
    "            val_loss = criterion(outputs, labels)\n",
    "            epoch_val_losses.append(val_loss.item())\n",
    "\n",
    "            _, predicted = torch.max(outputs.data, 1)\n",
    "            val_total += labels.size(0)\n",
    "            val_correct += (predicted == labels).sum().item()\n",
    "\n",
    "        val_losses.append(np.mean(epoch_val_losses))\n",
    "        val_acc = 100 * val_correct / val_total\n",
    "        print(f'Validation - Epoch [{epoch + 1}/{epochs}], Loss: {val_losses[-1]:.4f}, Accuracy: {val_acc:.2f}%')"
   ]
  },
  {
   "cell_type": "code",
   "execution_count": 16,
   "id": "bf3a18d8-0cb1-40f1-9666-c4e767e50979",
   "metadata": {},
   "outputs": [
    {
     "data": {
      "image/png": "[encoded data removed]",
      "text/plain": [
       "<Figure size 1000x500 with 1 Axes>"
      ]
     },
     "metadata": {},
     "output_type": "display_data"
    },
    {
     "name": "stdout",
     "output_type": "stream",
     "text": [
      "Training and validation done\n"
     ]
    }
   ],
   "source": [
    "plt.figure(figsize=(10, 5))\n",
    "plt.plot(train_losses, label='Training Loss')\n",
    "plt.plot(val_losses, label='Validation Loss')\n",
    "plt.title('Training and Validation Loss')\n",
    "plt.xlabel('Epochs')\n",
    "plt.ylabel('Loss')\n",
    "plt.legend()\n",
    "plt.grid(True)\n",
    "plt.show()\n",
    "\n",
    "print(\"Training and validation done\")\n"
   ]
  },
  {
   "cell_type": "code",
   "execution_count": 17,
   "id": "1329b569-8cff-4b94-87d3-69eb44b26385",
   "metadata": {},
   "outputs": [
    {
     "name": "stdout",
     "output_type": "stream",
     "text": [
      "Final Test Accuracy: 98.37%\n"
     ]
    }
   ],
   "source": [
    "model.eval()\n",
    "with torch.no_grad():\n",
    "    correct = 0\n",
    "    total = 0\n",
    "    for images, labels in test_loader:\n",
    "        images = images.to(device)\n",
    "        labels = labels.to(device)\n",
    "        outputs = model(images)\n",
    "        _, predicted = torch.max(outputs.data, 1)\n",
    "        total += labels.size(0)\n",
    "        correct += (predicted == labels).sum().item()\n",
    "\n",
    "test_acc = 100 * correct / total\n",
    "print(f'Final Test Accuracy: {test_acc:.2f}%')"
   ]
  }
 ],
 "metadata": {
  "kernelspec": {
   "display_name": "jupyter_env",
   "language": "python",
   "name": "jupyter_env"
  },
  "language_info": {
   "codemirror_mode": {
    "name": "ipython",
    "version": 3
   },
   "file_extension": ".py",
   "mimetype": "text/x-python",
   "name": "python",
   "nbconvert_exporter": "python",
   "pygments_lexer": "ipython3",
   "version": "3.9.18"
  }
 },
 "nbformat": 4,
 "nbformat_minor": 5
}
